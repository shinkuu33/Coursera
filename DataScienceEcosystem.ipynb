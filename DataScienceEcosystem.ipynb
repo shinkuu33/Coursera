{
 "cells": [
  {
   "cell_type": "markdown",
   "id": "1e400a33-2723-459b-b78f-5b9dfb8e4984",
   "metadata": {},
   "source": [
    "## Data Science Tools and Ecosystem"
   ]
  },
  {
   "cell_type": "markdown",
   "id": "b02d3027-a81e-4f13-ba26-ca6be722d51e",
   "metadata": {},
   "source": [
    "### Introduction"
   ]
  },
  {
   "cell_type": "markdown",
   "id": "185f5b4e-62b2-4dd5-a15b-4b5234c40b92",
   "metadata": {},
   "source": [
    "Data science is an interdisciplinary field that uses scientific methods, processes, algorithms, and systems to extract knowledge and insights from structured and unstructured data. It combines elements of statistics, mathematics, programming, and domain expertise to analyze and interpret complex data.\r\n",
    "ive environment."
   ]
  },
  {
   "cell_type": "markdown",
   "id": "96bf19fb-9ef2-46eb-bf23-be8616b17bb5",
   "metadata": {},
   "source": [
    "The ecosystem of data science includes various tools, technologies, platforms, and practices that help manage and analyze data. Key components of this ecosystem are:\n",
    "\n",
    "Programming Languages: Popular languages like\n",
    "1. Python \n",
    "2. R \n",
    "3. SQL\n",
    "\n",
    "These are extensively used for data manipulation, statistical analysis, and data visualization.\n",
    "\n"
   ]
  },
  {
   "cell_type": "markdown",
   "id": "098ee817-75ab-4401-a13a-eb506b4bf96d",
   "metadata": {},
   "source": [
    "Data scientists utilize a wide array of libraries to support various stages of data analysis, model building, and visualization. Here are some of the most commonly used libraries:\r\n",
    "\r\n",
    "1. **NumPy**: This library is fundamental for scientific computing with Python. It supports large, multi-dimensional arrays and matrices, along with a large collection of high-level mathematical functions to operate on these arrays.\r\n",
    "\r\n",
    "2. **Pandas**: Essential for data manipulation and analysis, Pandas provides data structures and operations for manipulating numerical tables and time series.\r\n",
    "\r\n",
    "3. **Matplotlib**: A plotting library for creating static, interactive, and animated visualizations in Python. It's very versatile and widely used for creating graphs and charts.\r\n",
    "\r\n",
    "4. **Scikit-learn**: A simple and efficient tool for data mining and data analysis. It provides a range of supervised and unsupervised learning algorithms via a consistent interface in Python.\r\n",
    "\r\n",
    "5. **TensorFlow**: An open-source library developed by Google primarily for deep learning applications. It allows easy deployment of computational graphs across various platforms like CPUs, GPUs, and TPUs.\r\n",
    "\r\n",
    "6. **Keras**: A high-level neural networks API capable of running on top of TensorFlow, Theano, or CNTK. It is designed for human beings, focusing on enabling fast experimentation.\r\n",
    "\r\n",
    "7. **PyTorch**: Developed by Facebook's AI Research lab, PyTorch is a library for machine learning that provides flexibility and speed in building complex models, particularly in deep learning.\r\n",
    "\r\n",
    "8. **Seaborn**: Built on top of Matplotlib, Seaborn is a statistical data visualization library that provides a high-level interface for drawing attractive and informative statistical graphics.\r\n",
    "\r\n",
    "9. **Plotly**: Known for its interactive plots, Plotly can be used to create plots that users can interact with to explore data further. It supports a wide range of plots and graphs ranging from line charts to complex 3D charts.\r\n",
    "\r\n",
    "10. **Statsmodels**: Useful for conducting statistical tests and exploring data statistics. It is built on top of NumPy, SciPy, and Matplotlib and integrates well with Pandas.\r\n",
    "\r\n",
    "These libraries form the backbone of many data science projects, from initial data analysis to the deployment of complex predictive models."
   ]
  },
  {
   "cell_type": "markdown",
   "id": "5af6c212-e0d4-4d8c-a5be-1cee5f431fda",
   "metadata": {},
   "source": [
    "Here are some of the Data Science Tools \n",
    "\n",
    "| Data Science Tools |\r\n",
    "|--------------------|\r\n",
    "| Jupyter Notebook   |\r\n",
    "| RStudio            |\r\n",
    "| Apache Zeppelin    |"
   ]
  },
  {
   "cell_type": "markdown",
   "id": "e9d9b549-cb5f-40fa-b776-8500db60c9ee",
   "metadata": {},
   "source": [
    "\r\n",
    "Here are a few examples of evaluating arithmetic expressions in Python:"
   ]
  },
  {
   "cell_type": "code",
   "execution_count": 1,
   "id": "3065b263-2a07-4b51-9d9b-ab0579d3973f",
   "metadata": {},
   "outputs": [
    {
     "name": "stdout",
     "output_type": "stream",
     "text": [
      "8\n"
     ]
    }
   ],
   "source": [
    "result = 3 + 5\n",
    "print(result)  \n"
   ]
  },
  {
   "cell_type": "code",
   "execution_count": 2,
   "id": "0ab3e50d-0a08-4674-90f4-6efe92f805be",
   "metadata": {},
   "outputs": [
    {
     "name": "stdout",
     "output_type": "stream",
     "text": [
      "8\n"
     ]
    }
   ],
   "source": [
    "result = 10 - 2\n",
    "print(result)  \n"
   ]
  },
  {
   "cell_type": "code",
   "execution_count": 3,
   "id": "3a9427ec-768c-4500-96e3-d2a4468e5417",
   "metadata": {},
   "outputs": [
    {
     "name": "stdout",
     "output_type": "stream",
     "text": [
      "28\n"
     ]
    }
   ],
   "source": [
    "result = 4 * 7\n",
    "print(result) \n"
   ]
  },
  {
   "cell_type": "code",
   "execution_count": 4,
   "id": "6b54c6fa-7583-4899-ac53-ca5d6f18bc35",
   "metadata": {},
   "outputs": [
    {
     "name": "stdout",
     "output_type": "stream",
     "text": [
      "17\n"
     ]
    }
   ],
   "source": [
    "result = (3*4)+5\n",
    "print(result)"
   ]
  },
  {
   "cell_type": "code",
   "execution_count": 5,
   "id": "546f1782-662c-49d0-9c2f-7d35e0c596d0",
   "metadata": {},
   "outputs": [
    {
     "data": {
      "text/plain": [
       "3.3333333333333335"
      ]
     },
     "execution_count": 5,
     "metadata": {},
     "output_type": "execute_result"
    }
   ],
   "source": [
    "# This will convert 200 minutes to hours by dividing by 60.\n",
    "hours = 200 / 60\n",
    "hours"
   ]
  },
  {
   "cell_type": "markdown",
   "id": "3a4ec0eb-d6f6-4dad-b544-f7d178be8836",
   "metadata": {},
   "source": [
    "Here's a markdown cell that you can insert \n",
    "\n",
    "---\n",
    "\n",
    "**Objectives:**\n",
    "- List popular languages for Data Science.\n",
    "- Describe the use of Python for arithmetic operations.\n",
    "- Identify key Python libraries used in Data Science.\n",
    "- Convert units, such as minutes to hours, using Python.\n",
    "- Illustrate how to create and run basic Python expressions in a notebook environment.\n",
    "\n",
    "--- \n",
    "\n"
   ]
  },
  {
   "cell_type": "markdown",
   "id": "45511d61-7fd0-4c2b-8888-8b9b741e3f89",
   "metadata": {},
   "source": [
    "## Author\n",
    "Oluwashina Ajulo\n"
   ]
  },
  {
   "cell_type": "code",
   "execution_count": null,
   "id": "43fe6354-bb56-476a-a814-9a3b2be5440d",
   "metadata": {},
   "outputs": [],
   "source": []
  }
 ],
 "metadata": {
  "kernelspec": {
   "display_name": "Python 3 (ipykernel)",
   "language": "python",
   "name": "python3"
  },
  "language_info": {
   "codemirror_mode": {
    "name": "ipython",
    "version": 3
   },
   "file_extension": ".py",
   "mimetype": "text/x-python",
   "name": "python",
   "nbconvert_exporter": "python",
   "pygments_lexer": "ipython3",
   "version": "3.11.4"
  }
 },
 "nbformat": 4,
 "nbformat_minor": 5
}
